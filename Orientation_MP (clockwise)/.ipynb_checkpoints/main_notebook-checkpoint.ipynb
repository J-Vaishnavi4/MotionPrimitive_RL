{
 "cells": [
  {
   "cell_type": "code",
   "execution_count": null,
   "id": "1addf44a",
   "metadata": {},
   "outputs": [],
   "source": [
    "import gym\n",
    "import torch\n",
    "from agent import TRPOAgent\n",
    "import simple_driving\n",
    "import time\n",
    "\n",
    "\n",
    "def main():\n",
    "    nn = torch.nn.Sequential(torch.nn.Linear(8, 64), torch.nn.Tanh(),\n",
    "                             torch.nn.Linear(64, 2))\n",
    "    agent = TRPOAgent(policy=nn)\n",
    "\n",
    "    agent.load_model(\"agent.pth\")\n",
    "    agent.train(\"SimpleDriving-v0\", seed=0, batch_size=5000, iterations=100,\n",
    "                max_episode_length=250, verbose=True)\n",
    "    agent.save_model(\"agent.pth\")\n",
    "\n",
    "    env = gym.make('SimpleDriving-v0')\n",
    "    ob = env.reset()\n",
    "    while True:\n",
    "        action = agent(ob)\n",
    "        ob, _, done, _ = env.step(action)\n",
    "        env.render()\n",
    "        if done:\n",
    "            ob = env.reset()\n",
    "            time.sleep(1/30)\n",
    "\n",
    "\n",
    "if __name__ == '__main__':\n",
    "    main()\n"
   ]
  }
 ],
 "metadata": {
  "kernelspec": {
   "display_name": "Python 3 (ipykernel)",
   "language": "python",
   "name": "python3"
  },
  "language_info": {
   "codemirror_mode": {
    "name": "ipython",
    "version": 3
   },
   "file_extension": ".py",
   "mimetype": "text/x-python",
   "name": "python",
   "nbconvert_exporter": "python",
   "pygments_lexer": "ipython3",
   "version": "3.8.10"
  }
 },
 "nbformat": 4,
 "nbformat_minor": 5
}
