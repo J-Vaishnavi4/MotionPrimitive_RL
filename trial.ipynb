{
 "cells": [
  {
   "cell_type": "code",
   "execution_count": 1,
   "metadata": {},
   "outputs": [
    {
     "name": "stderr",
     "output_type": "stream",
     "text": [
      "pybullet build time: May 20 2022 19:44:17\n"
     ]
    },
    {
     "name": "stdout",
     "output_type": "stream",
     "text": [
      "startThreads creating 1 threads.\n",
      "starting thread 0\n",
      "started thread 0 \n",
      "argc=2\n",
      "argv[0] = --unused\n",
      "argv[1] = --start_demo_name=Physics Server\n",
      "ExampleBrowserThreadFunc started\n",
      "X11 functions dynamically loaded using dlopen/dlsym OK!\n",
      "X11 functions dynamically loaded using dlopen/dlsym OK!\n",
      "Creating context\n",
      "Created GL 3.3 context\n",
      "Direct GLX rendering context obtained\n",
      "Making context current\n",
      "GL_VENDOR=NVIDIA Corporation\n",
      "GL_RENDERER=NVIDIA GeForce RTX 3050 Laptop GPU/PCIe/SSE2\n",
      "GL_VERSION=3.3.0 NVIDIA 535.113.01\n",
      "GL_SHADING_LANGUAGE_VERSION=3.30 NVIDIA via Cg compiler\n",
      "pthread_getconcurrency()=0\n",
      "Version = 3.3.0 NVIDIA 535.113.01\n",
      "Vendor = NVIDIA Corporation\n",
      "Renderer = NVIDIA GeForce RTX 3050 Laptop GPU/PCIe/SSE2\n",
      "b3Printf: Selected demo: Physics Server\n",
      "startThreads creating 1 threads.\n",
      "starting thread 0\n",
      "started thread 0 \n",
      "MotionThreadFunc thread started\n",
      "ven = NVIDIA Corporation\n",
      "ven = NVIDIA Corporation\n",
      "b3Printf: b3Warning[examples/Importers/ImportURDFDemo/BulletUrdfImporter.cpp,152]:\n",
      "\n",
      "b3Printf: URDF file 'plane_transparent.urdf' not found\n",
      "\n"
     ]
    },
    {
     "ename": "error",
     "evalue": "Cannot load URDF file.",
     "output_type": "error",
     "traceback": [
      "\u001b[0;31m---------------------------------------------------------------------------\u001b[0m",
      "\u001b[0;31merror\u001b[0m                                     Traceback (most recent call last)",
      "\u001b[1;32m/home/tushar-20-msi/turtlebot_stable_baseline/trial.ipynb Cell 1\u001b[0m line \u001b[0;36m1\n\u001b[1;32m      <a href='vscode-notebook-cell:/home/tushar-20-msi/turtlebot_stable_baseline/trial.ipynb#W0sZmlsZQ%3D%3D?line=6'>7</a>\u001b[0m turtle1 \u001b[39m=\u001b[39m p\u001b[39m.\u001b[39mloadURDF(\u001b[39m'\u001b[39m\u001b[39m/home/tushar-20-msi/turtlebot_stable_baseline/turtlebot3_description/urdf/turtlebot3_burger.urdf.xacro\u001b[39m\u001b[39m'\u001b[39m,\\\n\u001b[1;32m      <a href='vscode-notebook-cell:/home/tushar-20-msi/turtlebot_stable_baseline/trial.ipynb#W0sZmlsZQ%3D%3D?line=7'>8</a>\u001b[0m \t\t\t\t\tbasePosition\u001b[39m=\u001b[39moffset, baseOrientation\u001b[39m=\u001b[39mp\u001b[39m.\u001b[39mgetQuaternionFromEuler([\u001b[39m0\u001b[39m, \u001b[39m0\u001b[39m, math\u001b[39m.\u001b[39mpi\u001b[39m/\u001b[39m\u001b[39m2.0\u001b[39m]))\n\u001b[1;32m      <a href='vscode-notebook-cell:/home/tushar-20-msi/turtlebot_stable_baseline/trial.ipynb#W0sZmlsZQ%3D%3D?line=8'>9</a>\u001b[0m turtle2 \u001b[39m=\u001b[39m p\u001b[39m.\u001b[39mloadURDF(\u001b[39m'\u001b[39m\u001b[39m/home/tushar-20-msi/turtlebot_stable_baseline/turtlebot3_description/urdf/turtlebot3_burger.urdf.xacro\u001b[39m\u001b[39m'\u001b[39m,\\\n\u001b[1;32m     <a href='vscode-notebook-cell:/home/tushar-20-msi/turtlebot_stable_baseline/trial.ipynb#W0sZmlsZQ%3D%3D?line=9'>10</a>\u001b[0m \t\t\t\t\tbasePosition\u001b[39m=\u001b[39m[\u001b[39m0\u001b[39m,\u001b[39m0\u001b[39m,\u001b[39m0\u001b[39m], baseOrientation\u001b[39m=\u001b[39mp\u001b[39m.\u001b[39mgetQuaternionFromEuler([\u001b[39m0\u001b[39m, \u001b[39m0\u001b[39m, \u001b[39m0\u001b[39m]))\n\u001b[0;32m---> <a href='vscode-notebook-cell:/home/tushar-20-msi/turtlebot_stable_baseline/trial.ipynb#W0sZmlsZQ%3D%3D?line=10'>11</a>\u001b[0m plane \u001b[39m=\u001b[39m p\u001b[39m.\u001b[39;49mloadURDF(\u001b[39m\"\u001b[39;49m\u001b[39mplane_transparent.urdf\u001b[39;49m\u001b[39m\"\u001b[39;49m)\n\u001b[1;32m     <a href='vscode-notebook-cell:/home/tushar-20-msi/turtlebot_stable_baseline/trial.ipynb#W0sZmlsZQ%3D%3D?line=11'>12</a>\u001b[0m \u001b[39m#plane = p.loadURDF('/home/tushar-20-msi/turtlebot_stable_baseline/turtlebot3_description/urdf/simpleplane.urdf')\u001b[39;00m\n\u001b[1;32m     <a href='vscode-notebook-cell:/home/tushar-20-msi/turtlebot_stable_baseline/trial.ipynb#W0sZmlsZQ%3D%3D?line=12'>13</a>\u001b[0m L \u001b[39m=\u001b[39m \u001b[39m0.16\u001b[39m\n",
      "\u001b[0;31merror\u001b[0m: Cannot load URDF file."
     ]
    },
    {
     "ename": "",
     "evalue": "",
     "output_type": "error",
     "traceback": [
      "\u001b[1;31mThe Kernel crashed while executing code in the the current cell or a previous cell. Please review the code in the cell(s) to identify a possible cause of the failure. Click <a href='https://aka.ms/vscodeJupyterKernelCrash'>here</a> for more info. View Jupyter <a href='command:jupyter.viewOutput'>log</a> for further details."
     ]
    }
   ],
   "source": [
    "import pybullet as p\n",
    "import time\n",
    "import math\n",
    "p.connect(p.GUI)\n",
    "offset = [0,2,0]\n",
    "\n",
    "turtle1 = p.loadURDF('/home/tushar-20-msi/turtlebot_stable_baseline/turtlebot3_description/urdf/turtlebot3_burger.urdf.xacro',\\\n",
    "\t\t\t\t\tbasePosition=offset, baseOrientation=p.getQuaternionFromEuler([0, 0, math.pi/2.0]))\n",
    "turtle2 = p.loadURDF('/home/tushar-20-msi/turtlebot_stable_baseline/turtlebot3_description/urdf/turtlebot3_burger.urdf.xacro',\\\n",
    "\t\t\t\t\tbasePosition=[0,0,0], baseOrientation=p.getQuaternionFromEuler([0, 0, 0]))\n",
    "plane = p.loadURDF(\"plane_transparent.urdf\")\n",
    "#plane = p.loadURDF('/home/tushar-20-msi/turtlebot_stable_baseline/turtlebot3_description/urdf/simpleplane.urdf')\n",
    "L = 0.16\n",
    "R = 0.033\n",
    "p.setRealTimeSimulation(1)\n",
    "\n",
    "#ang_vel = p.addUserDebugParameter('Angular_vel', -10, 10, 0)\n",
    "#lin_vel = p.addUserDebugParameter('linear_vel', -2, 2, 0)\n",
    "\n",
    "position, orientation = p.getBasePositionAndOrientation(turtle1)\n",
    "\n",
    "for j in range (p.getNumJoints(turtle1)):\n",
    "\tprint(p.getJointInfo(turtle1,j))\n",
    "forward=0\n",
    "turn=0\n",
    "leftWheelVelocity=0\n",
    "rightWheelVelocity=0\n",
    "while (1):\n",
    "\tp.setGravity(0, 0, -10)\n",
    "\ttime.sleep(1./10)\n",
    "\t#user_ang_vel = p.readUserDebugParameter(ang_vel)\n",
    "\t#user_lin_vel = p.readUserDebugParameter(lin_vel)\n",
    "\t\n",
    "\t# p.setGravity(0,0,-10)\n",
    "\t# time.sleep(1./240.)\n",
    "\t# user_ang_vel = p.readUserDebugParameter(ang_vel)\n",
    "    # user_lin_vel = p.readUserDebugParameter(lin_vel)\n",
    "\t# leftWheelVelocity=0\n",
    "\t#rightWheelVelocity=0\n",
    "\t# speed=10\n",
    "\t\n",
    "\t# for k,v in keys.items():\n",
    "    #     if (k == p.B3G_RIGHT_ARROW and (v&p.KEY_WAS_TRIGGERED)):\n",
    "    #             turn = -0.5\n",
    "    #     if (k == p.B3G_RIGHT_ARROW and (v&p.KEY_WAS_RELEASED)):\n",
    "    #             turn = 0\n",
    "    #     if (k == p.B3G_LEFT_ARROW and (v&p.KEY_WAS_TRIGGERED)):\n",
    "    #             turn = 0.5\n",
    "    #     if (k == p.B3G_LEFT_ARROW and (v&p.KEY_WAS_RELEASED)):\n",
    "    #             turn = 0\n",
    "\n",
    "    #     if (k == p.B3G_UP_ARROW and (v&p.KEY_WAS_TRIGGERED)):\n",
    "    #             forward=1\n",
    "    #     if (k == p.B3G_UP_ARROW and (v&p.KEY_WAS_RELEASED)):\n",
    "    #             forward=0\n",
    "    #     if (k == p.B3G_DOWN_ARROW and (v&p.KEY_WAS_TRIGGERED)):\n",
    "    #             forward=-1\n",
    "    #     if (k == p.B3G_DOWN_ARROW and (v&p.KEY_WAS_RELEASED)):\n",
    "    #             forward=0\n",
    "\n",
    "\n",
    "\t#rightWheelVelocity = (2*user_lin_vel + user_ang_vel*L)/(2*R)\n",
    "\t#leftWheelVelocity = (2*user_lin_vel - user_ang_vel*L)/(2*R)\n",
    "        \n",
    "\t#print(rightWheelVelocity,leftWheelVelocity)\n",
    "\t#p.setJointMotorControlArray(turtle,[1,2], p.VELOCITY_CONTROL,targetVelocities = [leftWheelVelocity,rightWheelVelocity])\n",
    "\tp.stepSimulation()\n",
    "\t\n",
    "\t#p.setJointMotorControl2(turtle,1,p.VELOCITY_CONTROL,targetVelocity=leftWheelVelocity,force=1000)\n",
    "\t#p.setJointMotorControl2(turtle,2,p.VELOCITY_CONTROL,targetVelocity=rightWheelVelocity,force=1000)\n",
    "\t\n",
    "\n"
   ]
  },
  {
   "cell_type": "code",
   "execution_count": 10,
   "metadata": {},
   "outputs": [],
   "source": [
    "pos, orn = p.getBasePositionAndOrientation(turtle)\n",
    "linV, angV = p.getBaseVelocity(turtle)"
   ]
  },
  {
   "cell_type": "code",
   "execution_count": 11,
   "metadata": {},
   "outputs": [
    {
     "name": "stdout",
     "output_type": "stream",
     "text": [
      "(0.022402565739641864, 2.0182158471602936, 0.0831021435470585)\n",
      "(1.0710198169784921, 0.6265280484056579, -1.3385726907167828)\n",
      "(-0.10192070209492221, 0.43530390569470634, -0.28247326376599835)\n",
      "(-3.831595345742489, 5.681604022772589, 7.9265480095883145)\n"
     ]
    }
   ],
   "source": [
    "print(pos)\n",
    "print(p.getEulerFromQuaternion(orn))\n",
    "print(linV)\n",
    "print(angV)"
   ]
  },
  {
   "cell_type": "code",
   "execution_count": 12,
   "metadata": {},
   "outputs": [],
   "source": [
    "obs = []\n",
    "obs.extend(list(pos))\n",
    "obs.extend(list(p.getEulerFromQuaternion(orn)))\n",
    "obs.extend(list(linV))\n",
    "obs.extend(list(angV))"
   ]
  },
  {
   "cell_type": "code",
   "execution_count": 13,
   "metadata": {},
   "outputs": [
    {
     "name": "stdout",
     "output_type": "stream",
     "text": [
      "[0.022402565739641864, 2.0182158471602936, 0.0831021435470585, 1.0710198169784921, 0.6265280484056579, -1.3385726907167828, -0.10192070209492221, 0.43530390569470634, -0.28247326376599835, -3.831595345742489, 5.681604022772589, 7.9265480095883145]\n"
     ]
    }
   ],
   "source": [
    "print(obs)"
   ]
  },
  {
   "cell_type": "code",
   "execution_count": 5,
   "metadata": {},
   "outputs": [
    {
     "name": "stdout",
     "output_type": "stream",
     "text": [
      "((0, 0, 1, 0, 0, (0.04827555423302987, 1.8954916170178757, 0.15489862345738392), (0.03539280986702007, 0.06978340093352475, 0.15478207590717713), (0.007056124036430188, 0.9999751032093928, 6.383530923511461e-05), 1.8257536714912106, 0.0, 0.0, (0.0, 0.0, 0.0), 0.0, (0.0, 0.0, 0.0)), (0, 0, 1, 0, 1, (0.01316381370199749, 1.8965922142624354, 0.10018067498196698), (0.00041348313063912357, 0.08997093574331261, 0.07202001089650623), (0.0070565229257171765, 0.9998536429005306, 0.01558519370226052), 1.8068857290735025, 0.0, 0.0, (0.0, 0.0, 0.0), 0.0, (0.0, 0.0, 0.0)), (0, 0, 1, 0, 2, (0.014996621854110307, 1.8965436436277754, 0.10246683670334826), (0.0011122174976911097, -0.07003593738995684, 0.07181282642028576), (0.0070591458145145706, 0.9998536243892151, 0.015585193489969399), 1.9668674824468084, 0.0, 0.0, (0.0, 0.0, 0.0), 0.0, (0.0, 0.0, 0.0)), (0, 0, 1, 0, 3, (-0.05344963594963513, 1.897955271294122, 0.042895650423352895), (-0.0667711680003186, 0.01039924829171357, 0.013473418028398597), (0.00705652292571718, 0.9998536429005306, 0.015585193702260526), 1.8878323206651453, 0.0, 0.0, (0.0, 0.0, 0.0), 0.0, (0.0, 0.0, 0.0)), (0, 0, 1, 0, 5, (-0.005882443443323285, 1.895873788242036, 0.15490880404372218), (-0.018863520188579237, 0.056107836397464306, 0.16545923631828513), (0.007055538877517004, 0.9999586670277797, -0.005734423002698409), 1.839841997982764, 0.0, 0.0, (0.0, 0.0, 0.0), 0.0, (0.0, 0.0, 0.0)), (0, 0, 1, 1, 0, (-0.071236281973246, 1.9661561036073074, 0.0391376462604799), (-0.08259871891781918, 0.07049610185368715, 0.03904807662785013), (0.005993813667648327, 0.9999820358212692, 4.724899164513957e-05), 1.8956940563404672, 0.0, 0.0, (0.0, 0.0, 0.0), 0.0, (0.0, 0.0, 0.0)), (0, 0, 1, 1, 1, (-0.07120976995318885, 1.9661562961638683, 0.039137674361292195), (-0.03271033658724588, 0.09019658964390043, 0.039101745584630546), (-0.02051820638949809, 0.9997894792604617, 1.914817934744117e-05), 1.876354718102859, 0.0, 0.0, (0.0, 0.0, 0.0), 0.0, (0.0, 0.0, 0.0)), (0, 0, 1, 1, 2, (-0.07121184659307377, 1.966156255795439, 0.039137264216060605), (-0.03365923714451772, -0.06979984240053327, 0.03826309293587117), (-0.018441566504594567, 0.9998298476901076, 0.00042929341094404027), 2.036302579783562, 0.0, 0.0, (0.0, 0.0, 0.0), 0.0, (0.0, 0.0, 0.0)), (0, 0, 1, 1, 3, (-0.07123607543809811, 1.9661561900716147, 0.03912445139959364), (-0.08255521982725665, 0.010493902621161233, 0.013224651828238614), (0.005787278519750023, 0.9998955715140038, 0.013242109877907172), 1.95586653563158, 0.0, 0.0, (0.0, 0.0, 0.0), 0.0, (0.0, 0.0, 0.0)), (0, 0, 1, 1, 5, (-0.07120297383065613, 1.9661586333799257, 0.03920359426869807), (-0.01889789005637898, 0.05610532999363982, 0.16539906998206133), (-0.02731432892222642, 0.9974522632030551, -0.06590075922652082), 1.9149320462241, 0.0, 0.0, (0.0, 0.0, 0.0), 0.0, (0.0, 0.0, 0.0)), (0, 0, 1, 2, 0, (0.07074764441740716, 1.9651669118225157, 0.03805935364384701), (0.03723264249415466, 0.0697778410844887, 0.03762390044581994), (0.017679622232103346, 0.9998436768776329, 0.0002297075219780503), 1.8956854102003753, 0.0, 0.0, (0.0, 0.0, 0.0), 0.0, (0.0, 0.0, 0.0)), (0, 0, 1, 2, 1, (0.07074537631500877, 1.9651669545770067, 0.038060034879168224), (0.033328663698746805, 0.08980199544719081, 0.03890698290032393), (0.019947724630497553, 0.999800922386408, -0.00045152779923846714), 1.8757383766495623, 0.0, 0.0, (0.0, 0.0, 0.0), 0.0, (0.0, 0.0, 0.0)), (0, 0, 1, 2, 2, (0.07074641641003215, 1.965166934276088, 0.03805973491391367), (0.03225568476253943, -0.07019398622814554, 0.03836827455408494), (0.018907629607123, 0.9998212233051642, -0.00015156254468998457), 2.0357248606664187, 0.0, 0.0, (0.0, 0.0, 0.0), 0.0, (0.0, 0.0, 0.0)), (0, 0, 1, 2, 3, (0.0706952113504912, 1.9651692952539666, 0.03804704263314195), (-0.06670811183409628, 0.010396854894239915, 0.013470373552923368), (0.07011268914806636, 0.9974602454267422, 0.012540718227035891), 1.9597497236828911, 0.0, 0.0, (0.0, 0.0, 0.0), 0.0, (0.0, 0.0, 0.0)), (0, 0, 1, 2, 5, (0.07071857530611747, 1.9651700612903382, 0.038126030394571644), (-0.018823826993934964, 0.056104571939491255, 0.16539852369808522), (0.046748733521803185, 0.9966942090549795, -0.06644704320265876), 1.915397392707776, 0.0, 0.0, (0.0, 0.0, 0.0), 0.0, (0.0, 0.0, 0.0)), (0, 0, 1, 3, 0, (0.00832634806503812, 1.903986196745286, 0.013006845806841166), (-0.0027057626817447167, 0.07001834395715456, 0.015446972959361871), (0.006015318845507973, 0.9999810226841078, -0.001330492702883164), 1.8340026572359047, 0.0, 0.0, (0.0, 0.0, 0.0), 0.0, (0.0, 0.0, 0.0)), (0, 0, 1, 3, 1, (0.00832638200375859, 1.9039861960123186, 0.013004671835494289), (-0.002523719567016984, 0.09003968351390967, 0.011474618776034999), (0.0059813801250378695, 0.9999817556513603, 0.0008434786439929154), 1.8139796073747911, 0.0, 0.0, (0.0, 0.0, 0.0), 0.0, (0.0, 0.0, 0.0)), (0, 0, 1, 3, 2, (0.008326382003758594, 1.9039861960123186, 0.013004671835494289), (-0.0034807400835714453, -0.06995734666032716, 0.0113396622357814), (0.00598138012503242, 0.9999817556513603, 0.0008434786439955337), 1.973979556643885, 0.0, 0.0, (0.0, 0.0, 0.0), 0.0, (0.0, 0.0, 0.0)), (0, 0, 1, 3, 3, (-0.009697273295525458, 1.9041134180230328, 0.013020084251138953), (-0.0667051891907888, 0.010401003607440895, 0.010709312125114001), (0.030090133671362977, 0.9995464452616342, 0.0012196804788285134), 1.894571706390199, 0.0, 0.0, (0.0, 0.0, 0.0), 0.0, (0.0, 0.0, 0.0)), (0, 0, 1, 3, 5, (-0.005980208940698813, 1.9040903470384172, 0.013100188058077666), (-0.018863627845388167, 0.05610447560512477, 0.1653828464263633), (0.006947882068585397, 0.996597874688149, -0.08212431492454365), 1.8542944133927197, 0.0, 0.0, (0.0, 0.0, 0.0), 0.0, (0.0, 0.0, 0.0)), (0, 0, 1, 5, 0, (-0.0005178483014742618, 1.924366962934624, 0.18525258356888588), (-0.011182484258015272, 0.07006237536917292, 0.1563487275100299), (0.005750492324951327, 0.9998620058265614, 0.015585286089958447), 1.8545605061095836, 0.0, 0.0, (0.0, 0.0, 0.0), 0.0, (0.0, 0.0, 0.0)), (0, 0, 1, 5, 1, (-0.0005126812270106135, 1.9246902080687607, 0.16455298529490214), (-0.0026880372961561967, 0.0899885731269161, 0.0717564347228711), (0.001184158418395011, 0.9987226537643563, 0.05051394487388397), 1.8370481815212067, 0.0, 0.0, (0.0, 0.0, 0.0), 0.0, (0.0, 0.0, 0.0)), (0, 0, 1, 5, 2, (-0.0005119336055110975, 1.9246900048057247, 0.16455716542728735), (-0.0013836353783497303, -0.07002213740328445, 0.07203517074126523), (0.000436536918878514, 0.9989259168005328, 0.04633381248865155), 1.9968569326921533, 0.0, 0.0, (0.0, 0.0, 0.0), 0.0, (0.0, 0.0, 0.0)), (0, 0, 1, 5, 3, (-0.0005459502846313496, 1.9246926186981375, 0.16452491599750566), (-0.0667437713072052, 0.010395706673200222, 0.013536416076966679), (0.034453216039129014, 0.9963120243873603, 0.07858324227035232), 1.9213829253963413, 0.0, 0.0, (0.0, 0.0, 0.0), 0.0, (0.0, 0.0, 0.0)), (0, 0, 1, 5, 5, (-0.000522482947609277, 1.9241980420707108, 0.19609956236009465), (-0.01933557113375297, 0.056109236838849386, 0.195892387209846), (0.010070256871759265, 0.9999492875283661, 0.00011089657156796367), 1.8681835454369162, 0.0, 0.0, (0.0, 0.0, 0.0), 0.0, (0.0, 0.0, 0.0)))\n"
     ]
    },
    {
     "ename": "",
     "evalue": "",
     "output_type": "error",
     "traceback": [
      "\u001b[1;31mThe Kernel crashed while executing code in the the current cell or a previous cell. Please review the code in the cell(s) to identify a possible cause of the failure. Click <a href='https://aka.ms/vscodeJupyterKernelCrash'>here</a> for more info. View Jupyter <a href='command:jupyter.viewOutput'>log</a> for further details."
     ]
    }
   ],
   "source": [
    "print(p.getClosestPoints(turtle1, turtle2,10))"
   ]
  }
 ],
 "metadata": {
  "kernelspec": {
   "display_name": "Python 3",
   "language": "python",
   "name": "python3"
  },
  "language_info": {
   "codemirror_mode": {
    "name": "ipython",
    "version": 3
   },
   "file_extension": ".py",
   "mimetype": "text/x-python",
   "name": "python",
   "nbconvert_exporter": "python",
   "pygments_lexer": "ipython3",
   "version": "3.8.10"
  },
  "orig_nbformat": 4
 },
 "nbformat": 4,
 "nbformat_minor": 2
}
